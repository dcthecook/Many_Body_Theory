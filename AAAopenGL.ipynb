{
 "cells": [
  {
   "cell_type": "code",
   "execution_count": 14,
   "id": "939d07c1",
   "metadata": {},
   "outputs": [],
   "source": [
    "import moderngl\n",
    "import numpy as np\n",
    "from PIL import Image\n",
    "\n",
    "\n",
    "window_width = 2000\n",
    "window_height = 2000\n",
    "color = (1.0, 1.0, 0.0)\n",
    "bg_color = (0.3, 0.3, 0.3)\n",
    "\n",
    "ctx = moderngl.create_standalone_context() #create the standalone context check doc\n",
    "\n",
    "\n",
    "#create the program object from ctx. it holds the vertex shader and fragment shader\n",
    "#must containt #version330\n",
    "prog = ctx.program(\n",
    "    vertex_shader='''\n",
    "        #version 330\n",
    "\n",
    "        in vec2 in_vert;\n",
    "        in vec3 in_color;\n",
    "\n",
    "        out vec3 v_color;\n",
    "\n",
    "        void main() {\n",
    "            v_color = in_color;\n",
    "            gl_Position = vec4(in_vert, 0.0, 1.0);\n",
    "        }\n",
    "    ''',\n",
    "    fragment_shader='''\n",
    "        #version 330\n",
    "\n",
    "        in vec3 v_color;\n",
    "\n",
    "        out vec3 f_color;\n",
    "\n",
    "        void main() {\n",
    "            f_color = v_color;\n",
    "        }\n",
    "    ''',\n",
    ")\n",
    "\n",
    "#the below simply scales the triangle\n",
    "resize_triangle_factor = 0.7\n",
    "\n",
    "#the X coordinates of the 3 points which are (X, y)\n",
    "x = resize_triangle_factor * np.array([-1, 0, 1])\n",
    "#the Y coordinates of the 3 points which are (x, Y)\n",
    "y = resize_triangle_factor * np.array([-1, 1, -1])\n",
    "\n",
    "#3 arrays called rgb which contains the color of each triangle. has to be same\n",
    "#length as x and y\n",
    "#the color[] scales the array full of ones. vars go from 0 to 1\n",
    "r = color[0] * np.ones(len(x))\n",
    "g = color[1] * np.ones(len(x))\n",
    "b = color[2] * np.ones(len(x))\n",
    "\n",
    "#the ACTUAL vertexes to be buffered into the GPU have to have the rgb for each x and y\n",
    "vertices = np.dstack([x, y, r, g, b])\n",
    "\n",
    "#create vertex buffer object vbo from context ctx and its function .buffer()\n",
    "#they have to be float32 which is why we use .astype('f4' which stands for 4-byte float)\n",
    "#then it has to be given in bytes to the gpu so .tobytes()\n",
    "vbo = ctx.buffer(vertices.astype('f4').tobytes())\n",
    "#now we create the vertex array object vao from the context ctx\n",
    "#and its call fx .simple_vertex_array()\n",
    "#see doc for more options\n",
    "vao = ctx.simple_vertex_array(prog, vbo, 'in_vert', 'in_color')\n",
    "\n",
    "#we crete the frame buffer object fbo which opens the window\n",
    "fbo = ctx.simple_framebuffer((window_width, window_height))\n",
    "fbo.use()\n",
    "fbo.clear(bg_color[0], bg_color[1], bg_color[2])\n",
    "#we .render( as triangles ) the VERTEX array object\n",
    "vao.render(moderngl.TRIANGLES)\n",
    "\n",
    "#we take the frame buffer object and give it to PIL to given an image\n",
    "Image.frombytes('RGB', fbo.size, fbo.read(), 'raw', 'RGB', 0, -1).show()"
   ]
  },
  {
   "cell_type": "code",
   "execution_count": 9,
   "id": "56a0cc06",
   "metadata": {},
   "outputs": [
    {
     "data": {
      "text/plain": [
       "array([[[0. , 0. , 1. , 1. , 0. ],\n",
       "        [0.5, 1. , 1. , 1. , 0. ],\n",
       "        [1. , 0. , 1. , 1. , 0. ]]], dtype=float32)"
      ]
     },
     "execution_count": 9,
     "metadata": {},
     "output_type": "execute_result"
    }
   ],
   "source": [
    "vertices.astype('f4')"
   ]
  },
  {
   "cell_type": "code",
   "execution_count": null,
   "id": "f3fdcf3c",
   "metadata": {},
   "outputs": [],
   "source": []
  },
  {
   "cell_type": "code",
   "execution_count": null,
   "id": "03f9e044",
   "metadata": {},
   "outputs": [],
   "source": []
  }
 ],
 "metadata": {
  "kernelspec": {
   "display_name": "Python 3 (ipykernel)",
   "language": "python",
   "name": "python3"
  },
  "language_info": {
   "codemirror_mode": {
    "name": "ipython",
    "version": 3
   },
   "file_extension": ".py",
   "mimetype": "text/x-python",
   "name": "python",
   "nbconvert_exporter": "python",
   "pygments_lexer": "ipython3",
   "version": "3.11.5"
  }
 },
 "nbformat": 4,
 "nbformat_minor": 5
}
